{
 "cells": [
  {
   "cell_type": "markdown",
   "metadata": {},
   "source": [
    "## Méthode Semi-implicite\n",
    "\n",
    "Cette fois-ci nous utilisons la méthode implicite mais non devons conserver une méthode explicite pourles parties non liénaires.\n",
    "\n",
    "La discrétisation dans l'espace de dimension NxN (carré avec N points par côté) s'effectue comme suit en n+1 : \n",
    "\n",
    "\\begin{align}\n",
    "\\frac{u_{i,j}^{n+1}-u_{i,j}^{n}}{\\Delta t}= D_{u}*(\\frac{u_{i+1,j}^{n+1}-2u_{i,j}^{n+1}+u_{i-1,j}^{n+1}}{\\Delta x^2}+\\frac{u_{i,j+1}^{n+1}-2u_{i,j}^{n+1}+u_{i,j-1}^{n+1}}{\\Delta y^2})-u_{i,j}^{n}*(v_{i,j}^{n})^2+F(1-u_{i,j}^{n+1})\\\\\n",
    "\\frac{v_{i,j}^{n+1}-v_{i,j}^{n}}{\\Delta t}=D_{v}*(\\frac{v_{i+1,j}^{n+1}-2v_{i,j}^{n+1}+v_{i-1,j}^{n+1}}{\\Delta x^2}+\\frac{v_{i,j+1}^{n+1}-2v_{i,j}^{n+1}+v_{i,j-1}^{n+1}}{\\Delta y^2})+u_{i,j}^{n}*(v_{i,j}^{n})^2-(F+k)v_{i,j}^{n+1}\n",
    "\\end{align}\n",
    "\n",
    "On a alors :\n",
    "\n",
    "\\begin{align}\n",
    "{u_{i,j}^{n}}{(\\frac{1}{\\Delta t} - (v_{i,j}^{n})^2)} + F= \\frac{-D_{u}}{\\delta^2}({u_{i+1,j}^{n+1}+u_{i-1,j}^{n+1}+u_{i,j+1}^{n+1}+u_{i,j-1}^{n+1}})+u_{i,j}^{n+1}{(\\frac{1}{\\Delta t} + \\frac{4D_{u}}{\\delta^2}+F)}\\\\\n",
    "{v_{i,j}^{n}}{(\\frac{1}{\\Delta t} + u_{i,j}^{n} v_{i,j}^{n})}= \\frac{-D_{v}}{\\delta^2}({v_{i+1,j}^{n+1}+v_{i-1,j}^{n+1}+v_{i,j+1}^{n+1}+v_{i,j-1}^{n+1}})+v_{i,j}^{n+1}{(\\frac{1}{\\Delta t} + \\frac{4D_{v}}{\\delta^2}+(F+k))}\n",
    "\\end{align}\n",
    "\n",
    "Par la suite, par utilité pratique, on utilisera les notations :\n",
    "\n",
    "\\begin{align}\n",
    " C_{i,j}^{n}={u_{i,j}^{n}}{(\\frac{1}{\\Delta t} - (v_{i,j}^{n})^2)} + F\\\\\n",
    "{E_{i,j}^{n}}={v_{i,j}^{n}}{(\\frac{1}{\\Delta t} + u_{i,j}^{n} v_{i,j}^{n})}\n",
    "\\end{align}\n",
    "\n",
    "On peut donc écrire :\n",
    "\n",
    "\\begin{align}\n",
    "C_{i,j}^{n} = \\frac{-D_{u}}{\\delta^2}({u_{i+1,j}^{n+1}+u_{i-1,j}^{n+1}+u_{i,j+1}^{n+1}+u_{i,j-1}^{n+1}})+u_{i,j}^{n+1}{(\\frac{1}{\\Delta t} + \\frac{4D_{u}}{\\delta^2}+F)}\\\\\n",
    "E_{i,j}^{n}= \\frac{-D_{v}}{\\delta^2}({v_{i+1,j}^{n+1}+v_{i-1,j}^{n+1}+v_{i,j+1}^{n+1}+v_{i,j-1}^{n+1}})+v_{i,j}^{n+1}{(\\frac{1}{\\Delta t} + \\frac{4D_{v}}{\\delta^2}+(F+k))}\n",
    "\\end{align}"
   ]
  },
  {
   "cell_type": "markdown",
   "metadata": {},
   "source": [
    "### Conditions aux bords\n",
    "\n",
    "Posons les conditions de Neumann aux bords."
   ]
  },
  {
   "cell_type": "markdown",
   "metadata": {},
   "source": [
    "#### Bord inférieur (j=0) : \n",
    "\n",
    "Les conditions sur la dérivée donnent :\n",
    "\n",
    "\\begin{align}\n",
    "\\frac{u_{i,1}^{n+1}-u_{i,0}^{n+1}}{\\delta}=0\\\\\n",
    "\\frac{v_{i,1}^{n+1}-v_{i,0}^{n+1}}{\\delta}=0\\\\\n",
    "\\\\\n",
    "u_{i,1}^{n+1} = u_{i,0}^{n+1}\\\\\n",
    "v_{i,1}^{n+1} = v_{i,0}^{n+1}\n",
    "\\end{align}"
   ]
  },
  {
   "cell_type": "markdown",
   "metadata": {},
   "source": [
    "Alors, en j=1, on trouve :\n",
    "\n",
    "\\begin{align}\n",
    "u_{i,j}^{n+1}=u_{i,j-1}^{n+1}\\\\\n",
    "v_{i,j}^{n+1}=v_{i,j-1}^{n+1}\n",
    "\\end{align}\n",
    "\n",
    "Les équations pour j=1 sont donc:\n",
    "\n",
    "\\begin{align}\n",
    "C_{i,1}^{n} = \\frac{-D_{u}}{\\delta^2}({u_{i+1,0}^{n+1}+u_{i-1,0}^{n+1}+u_{i,2}^{n+1}})+u_{i,0}^{n+1}{(\\frac{1}{\\Delta t} + \\frac{3D_{u}}{\\delta^2}+F)}\\\\\n",
    "E_{i,1}^{n}= \\frac{-D_{v}}{\\delta^2}({v_{i+1,0}^{n+1}+v_{i-1,0}^{n+1}+v_{i,2}^{n+1}})+v_{i,0}^{n+1}{(\\frac{1}{\\Delta t} + \\frac{3D_{v}}{\\delta^2}+(F+k))}\n",
    "\\end{align}"
   ]
  },
  {
   "cell_type": "markdown",
   "metadata": {},
   "source": [
    "#### Bord gauche (i=0) :\n",
    "\n",
    "De manière similaire, on a :\n",
    "\n",
    "\\begin{align}\n",
    "u_{1,j}^{n+1} = u_{0,j}^{n+1}\\\\\n",
    "v_{1,j}^{n+1} = v_{0,j}^{n+1}\n",
    "\\end{align}\n",
    "\n",
    "Et, en utilisant i=1 :\n",
    "\n",
    "\\begin{align}\n",
    "C_{1,j}^{n} = \\frac{-D_{u}}{\\delta^2}({u_{0,j+1}^{n+1}+u_{0,j-1}^{n+1}+u_{2,j}^{n+1}})+u_{0,j}^{n+1}{(\\frac{1}{\\Delta t} + \\frac{3D_{u}}{\\delta^2}+F)}\\\\\n",
    "E_{1,j}^{n}= \\frac{-D_{v}}{\\delta^2}({v_{0,j+1}^{n+1}+v_{0,j-1}^{n+1}+v_{2,j}^{n+1}})+v_{0,j}^{n+1}{(\\frac{1}{\\Delta t} + \\frac{3D_{v}}{\\delta^2}+(F+k))}\n",
    "\\end{align}"
   ]
  },
  {
   "cell_type": "markdown",
   "metadata": {},
   "source": [
    "#### Bord supérieur (j=N-1) :\n",
    "\n",
    "On a ici :\n",
    "\n",
    "\\begin{align}\n",
    "\\frac{u_{i,N-1}^{n+1}-u_{i,N-2}^{n+1}}{\\delta}=0\\\\\n",
    "\\frac{v_{i,N-1}^{n+1}-v_{i,N-2}^{n+1}}{\\delta}=0\\\\\n",
    "\\\\\n",
    "u_{i,N-2}^{n+1} = u_{i,N-1}^{n+1}\\\\\n",
    "v_{i,N-2}^{n+1} = v_{i,N-1}^{n+1}\n",
    "\\end{align}\n",
    "\n",
    "Et, en utilisant j=N-2 :\n",
    "\n",
    "\\begin{align}\n",
    "C_{i,N-2}^{n} = \\frac{-D_{u}}{\\delta^2}({u_{i+1,N-1}^{n+1}+u_{i-1,N-1}^{n+1}+u_{i,N-3}^{n+1}})+u_{i,N-1}^{n+1}{(\\frac{1}{\\Delta t} + \\frac{3D_{u}}{\\delta^2}+F)}\\\\\n",
    "E_{i,N-2}^{n} = \\frac{-D_{v}}{\\delta^2}({v_{i+1,N-1}^{n+1}+v_{i-1,N-1}^{n+1}+v_{i,N-3}^{n+1}})+v_{i,N-1}^{n+1}{(\\frac{1}{\\Delta t} + \\frac{3D_{v}}{\\delta^2}+(F+k))}\n",
    "\\end{align}"
   ]
  },
  {
   "cell_type": "markdown",
   "metadata": {},
   "source": [
    "#### Bord droit (i=N-1) :\n",
    "\n",
    "\\begin{align}\n",
    "u_{N-2,j}^{n+1} = u_{N-1,j}^{n+1}\\\\\n",
    "v_{N-2,j}^{n+1} = v_{N-1,j}^{n+1}\n",
    "\\end{align}\n",
    "\n",
    "Et, en utilisant i=N-2 :\n",
    "\n",
    "\\begin{align}\n",
    "C_{N-2,j}^{n} = \\frac{-D_{u}}{\\delta^2}({u_{N-1,j+1}^{n+1}+u_{N-1,j-1}^{n+1}+u_{N-3,j}^{n+1}})+u_{N-1,j}^{n+1}{(\\frac{1}{\\Delta t} + \\frac{3D_{u}}{\\delta^2}+F)}\\\\\n",
    "E_{N-2,j}^{n}= \\frac{-D_{v}}{\\delta^2}({v_{N-1,j+1}^{n+1}+v_{N-1,j-1}^{n+1}+v_{N-3,j}^{n+1}})+v_{N-1,j}^{n+1}{(\\frac{1}{\\Delta t} + \\frac{3D_{v}}{\\delta^2}+(F+k))}\n",
    "\\end{align}\n"
   ]
  },
  {
   "cell_type": "code",
   "execution_count": 2,
   "metadata": {
    "collapsed": true
   },
   "outputs": [],
   "source": [
    "import numpy\n",
    "from matplotlib import pyplot\n",
    "import matplotlib.cm as cm\n",
    "%matplotlib inline\n",
    "from scipy.linalg import solve"
   ]
  },
  {
   "cell_type": "code",
   "execution_count": 3,
   "metadata": {
    "collapsed": true
   },
   "outputs": [],
   "source": [
    "uvinitial = numpy.load('./data/uvinitial.npz')\n",
    "U = uvinitial['U']\n",
    "V = uvinitial['V']"
   ]
  },
  {
   "cell_type": "code",
   "execution_count": 4,
   "metadata": {
    "collapsed": true
   },
   "outputs": [],
   "source": [
    "N=48\n",
    "dh=5/(N-1)\n",
    "T=8000\n",
    "CI1=numpy.array([0.00016, 0.00008, 0.035, 0.065]) # Bacteria 1"
   ]
  },
  {
   "cell_type": "code",
   "execution_count": 11,
   "metadata": {
    "collapsed": true
   },
   "outputs": [],
   "source": [
    "def dtandnt(CI):\n",
    "    dt = .9 * dh**2 / (4*max(CI[0],CI[1]))\n",
    "    nt=int(T/dt)\n",
    "    return (dt,nt)"
   ]
  },
  {
   "cell_type": "code",
   "execution_count": 5,
   "metadata": {
    "collapsed": true
   },
   "outputs": [],
   "source": [
    "def constructMatrix(Du, dh, dt,add):\n",
    "    #add prendra la valeur -F pour construire la matrice pour u et +(F+k) pour v\n",
    "    A = numpy.zeros(((N-2)*(N-2),(N-2)*(N-2)))\n",
    "    \n",
    "    row_number = 0 # row counter\n",
    "    \n",
    "    for j in range(1,N-1):\n",
    "        for i in range(1,N-1):\n",
    "            #Corners\n",
    "            if i==1 and j==1: # Left-Bottom\n",
    "                A[row_number,row_number] = (1./dt)+2*Du/(dh**2)+add # Set diagonal\n",
    "                A[row_number,row_number+1] = -Du/(dh**2)       # fetch i+1\n",
    "                A[row_number,row_number+N-2] = -Du/(dh**2)    # fetch j+1\n",
    "            \n",
    "            elif i==N-2 and j==N-2: # Right-Top\n",
    "                A[row_number,row_number] = (1./dt)+2*Du/(dh**2)+add # Set diagonal\n",
    "                A[row_number,row_number-1] = -Du/(dh**2)      # Fetch i-1\n",
    "                A[row_number,row_number-(N-2)] = -Du/(dh**2)  # fetch j-1\n",
    "                \n",
    "            elif j==1 and i==N-2: # Bottom-Right\n",
    "                A[row_number,row_number] = (1./dt)+2*Du/(dh**2)+add # Set diagonal\n",
    "                A[row_number,row_number-1] = -Du/(dh**2)       # fetch i-1\n",
    "                A[row_number,row_number+N-2] = -Du/(dh**2)    # fetch j+1\n",
    "                \n",
    "            elif j==N-2 and i==1: # Top-Left\n",
    "                A[row_number,row_number] = (1./dt)+2*Du/(dh**2)+add # Set diagonal\n",
    "                A[row_number,row_number+1] = -Du/(dh**2)      # fetch i+1\n",
    "                A[row_number,row_number-(N-2)] = -Du/(dh**2)  # fetch j-1            \n",
    "            # Sides\n",
    "            elif i==1: # Left boundary\n",
    "                A[row_number,row_number] = (1/dt)+3*Du/(dh**2)+add # Set diagonal\n",
    "                A[row_number,row_number+1] = -Du/(dh**2)       # fetch i+1\n",
    "                A[row_number,row_number+N-2] = -Du/(dh**2)    # fetch j+1\n",
    "                A[row_number,row_number-(N-2)] = -Du/(dh**2)  # fetch j-1\n",
    "            \n",
    "            elif i==N-2: # Right boundary\n",
    "                A[row_number,row_number] = (1/dt)+3*Du/(dh**2)+add # Set diagonal\n",
    "                A[row_number,row_number-1] = -Du/(dh**2)      # Fetch i-1\n",
    "                A[row_number,row_number+N-2] = -Du/(dh**2)    # fetch j+1\n",
    "                A[row_number,row_number-(N-2)] = -Du/(dh**2)  # fetch j-1\n",
    "                \n",
    "            elif j==1: # Bottom boundary\n",
    "                A[row_number,row_number] = (1/dt)+3*Du/(dh**2)+add # Set diagonal\n",
    "                A[row_number,row_number+1] = -Du/(dh**2)       # fetch i+1\n",
    "                A[row_number,row_number-1] = -Du/(dh**2)       # fetch i-1\n",
    "                A[row_number,row_number+N-2] = -Du/(dh**2)    # fetch j+1\n",
    "                \n",
    "            elif j==N-2: # Top boundary\n",
    "                A[row_number,row_number] = (1/dt)+3*Du/(dh**2)+add # Set diagonal\n",
    "                A[row_number,row_number+1] = -Du/(dh**2)      # fetch i+1\n",
    "                A[row_number,row_number-1] = -Du/(dh**2)       # fetch i-1\n",
    "                A[row_number,row_number-(N-2)] = -Du/(dh**2)  # fetch j-1\n",
    "                \n",
    "            # Interior points\n",
    "            else:\n",
    "                A[row_number,row_number] =  (1/dt)+4*Du/(dh**2)+add# Set diagonal\n",
    "                A[row_number,row_number+1] = -Du/(dh**2)     # fetch i+1\n",
    "                A[row_number,row_number-1] = -Du/(dh**2)     # fetch i-1\n",
    "                A[row_number,row_number+N-2] = -Du/(dh**2)   # fetch j+1\n",
    "                A[row_number,row_number-(N-2)] = -Du/(dh**2) # fetch j-1\n",
    "                \n",
    "            row_number += 1 # Jump to next row of the matrix!\n",
    "    \n",
    "    return A           "
   ]
  },
  {
   "cell_type": "code",
   "execution_count": 6,
   "metadata": {
    "collapsed": true
   },
   "outputs": [],
   "source": [
    "def generateCn(CI, u, v):\n",
    "    F=CI[2]\n",
    "    dt=dtandnt(CI)[0]\n",
    "    Cn = numpy.zeros((N-2)**2)\n",
    "    \n",
    "    row_number = 0 # row counter\n",
    "    for j in range(1,N-1):\n",
    "        for i in range(1,N-1):\n",
    "            Cn[row_number] = u[i,j]*(1/dt -v[i,j]**2)+F\n",
    "                \n",
    "            row_number += 1 # Jump to next row!\n",
    "    \n",
    "    return Cn"
   ]
  },
  {
   "cell_type": "code",
   "execution_count": 7,
   "metadata": {
    "collapsed": true
   },
   "outputs": [],
   "source": [
    "def generateEn(CI, u, v):\n",
    "    En = numpy.zeros((N-2)**2)\n",
    "    dt=dtandnt(CI)[0]\n",
    "    row_number = 0 # row counter\n",
    "    for j in range(1,N-1):\n",
    "        for i in range(1,N-1):\n",
    "            En[row_number] = v[i,j]*(1/dt -u[i,j]*v[i,j])\n",
    "                \n",
    "            row_number += 1 # Jump to next row!\n",
    "    \n",
    "    return En"
   ]
  },
  {
   "cell_type": "code",
   "execution_count": 8,
   "metadata": {
    "collapsed": true
   },
   "outputs": [],
   "source": [
    "def map_1Dto2D(T_1D):\n",
    "    \n",
    "    T = numpy.zeros((N,N))\n",
    "    \n",
    "    row_number = 0\n",
    "    for j in range(1,N-1):\n",
    "        for i in range(1,N-1):\n",
    "            T[j,i] = T_1D[row_number]\n",
    "            row_number += 1\n",
    "    # Conditions de Neumann\n",
    "    T[0,:] = T[1,:]\n",
    "    T[:,0] = T[:,1]\n",
    "    T[-1,:] = T[-2,:]\n",
    "    T[:,-1] = T[:,-2]\n",
    "    \n",
    "    return T "
   ]
  },
  {
   "cell_type": "code",
   "execution_count": 9,
   "metadata": {
    "collapsed": true
   },
   "outputs": [],
   "source": [
    "def btcs_2D(uu,vv, Au, Av, CI):\n",
    "    [dt,nt]=dtandnt(CI)\n",
    "    F=CI[2]\n",
    "    u=uu.copy()\n",
    "    v=vv.copy()\n",
    "    for n in range(nt):\n",
    "        un = u.copy()\n",
    "        vn = v.copy()\n",
    "        Cn = generateCn(CI,un,vn)\n",
    "        En = generateEn(CI,un,vn)\n",
    "        # Use numpy.linalg.solve\n",
    "        u_interior = solve(Au,Cn)\n",
    "        v_interior = solve(Av,En)\n",
    "        u = map_1Dto2D(u_interior)\n",
    "        v = map_1Dto2D(v_interior)\n",
    "\n",
    "    return (u,v)"
   ]
  },
  {
   "cell_type": "code",
   "execution_count": 12,
   "metadata": {
    "collapsed": false
   },
   "outputs": [],
   "source": [
    "Au = constructMatrix(CI1[0],dh,dtandnt(CI1)[0],CI1[2])"
   ]
  },
  {
   "cell_type": "code",
   "execution_count": 13,
   "metadata": {
    "collapsed": true
   },
   "outputs": [],
   "source": [
    "Av = constructMatrix(CI1[1],dh,dtandnt(CI1)[0],CI1[2]+CI1[3])"
   ]
  },
  {
   "cell_type": "code",
   "execution_count": null,
   "metadata": {
    "collapsed": true
   },
   "outputs": [],
   "source": [
    "#sol = btcs_2D(u0,v0,Au,Av,CI1) Dangerous"
   ]
  },
  {
   "cell_type": "code",
   "execution_count": null,
   "metadata": {
    "collapsed": true
   },
   "outputs": [],
   "source": [
    "fig = pyplot.figure(figsize=(14,5))\n",
    "pyplot.subplot(121)\n",
    "pyplot.imshow(sol[0], cmap = cm.RdBu)\n",
    "pyplot.title('Concentration en u')\n",
    "pyplot.xticks([]), pyplot.yticks([]);\n",
    "pyplot.colorbar()\n",
    "pyplot.subplot(122)\n",
    "pyplot.imshow(sol[1], cmap = cm.RdBu)\n",
    "pyplot.title('Concentration en v')\n",
    "pyplot.xticks([]), pyplot.yticks([]);\n",
    "pyplot.colorbar()"
   ]
  }
 ],
 "metadata": {
  "kernelspec": {
   "display_name": "Python [conda root]",
   "language": "python",
   "name": "conda-root-py"
  },
  "language_info": {
   "codemirror_mode": {
    "name": "ipython",
    "version": 3
   },
   "file_extension": ".py",
   "mimetype": "text/x-python",
   "name": "python",
   "nbconvert_exporter": "python",
   "pygments_lexer": "ipython3",
   "version": "3.5.2"
  }
 },
 "nbformat": 4,
 "nbformat_minor": 1
}
